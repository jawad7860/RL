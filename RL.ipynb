{
 "cells": [
  {
   "cell_type": "code",
   "execution_count": 1,
   "metadata": {
    "colab": {
     "base_uri": "https://localhost:8080/",
     "height": 941
    },
    "id": "fwKsQ_lxJrQD",
    "outputId": "ddda5ff9-cf7a-4166-fe4e-857f130f2061"
   },
   "outputs": [
    {
     "name": "stdout",
     "output_type": "stream",
     "text": [
      "WARNING: pip is being invoked by an old script wrapper. This will fail in a future version of pip.\n",
      "Please see https://github.com/pypa/pip/issues/5599 for advice on fixing the underlying issue.\n",
      "To avoid this problem you can invoke Python with '-m pip' instead of running pip directly.\n",
      "Requirement already satisfied: tensorflow==1.13.2 in /home/jawad/snap/jupyter/common/lib/python3.7/site-packages (1.13.2)\n",
      "Requirement already satisfied: absl-py>=0.1.6 in /home/jawad/snap/jupyter/common/lib/python3.7/site-packages (from tensorflow==1.13.2) (1.0.0)\n",
      "Requirement already satisfied: numpy<2.0,>=1.16.0 in /home/jawad/snap/jupyter/common/lib/python3.7/site-packages (from tensorflow==1.13.2) (1.20.2)\n",
      "Requirement already satisfied: protobuf>=3.6.1 in /home/jawad/snap/jupyter/common/lib/python3.7/site-packages (from tensorflow==1.13.2) (3.19.1)\n",
      "Requirement already satisfied: grpcio>=1.8.6 in /home/jawad/snap/jupyter/common/lib/python3.7/site-packages (from tensorflow==1.13.2) (1.43.0)\n",
      "Requirement already satisfied: gast>=0.2.0 in /home/jawad/snap/jupyter/common/lib/python3.7/site-packages (from tensorflow==1.13.2) (0.5.3)\n",
      "Requirement already satisfied: keras-applications>=1.0.6 in /home/jawad/snap/jupyter/common/lib/python3.7/site-packages (from tensorflow==1.13.2) (1.0.8)\n",
      "Requirement already satisfied: termcolor>=1.1.0 in /home/jawad/snap/jupyter/common/lib/python3.7/site-packages (from tensorflow==1.13.2) (1.1.0)\n",
      "Requirement already satisfied: keras-preprocessing>=1.0.5 in /home/jawad/snap/jupyter/common/lib/python3.7/site-packages (from tensorflow==1.13.2) (1.1.2)\n",
      "Requirement already satisfied: six>=1.10.0 in /snap/jupyter/6/lib/python3.7/site-packages (from tensorflow==1.13.2) (1.12.0)\n",
      "Requirement already satisfied: tensorboard<1.14.0,>=1.13.0 in /home/jawad/snap/jupyter/common/lib/python3.7/site-packages (from tensorflow==1.13.2) (1.13.1)\n",
      "Requirement already satisfied: tensorflow-estimator<1.14.0rc0,>=1.13.0 in /home/jawad/snap/jupyter/common/lib/python3.7/site-packages (from tensorflow==1.13.2) (1.13.0)\n",
      "Requirement already satisfied: wheel>=0.26 in /home/jawad/snap/jupyter/common/lib/python3.7/site-packages (from tensorflow==1.13.2) (0.36.2)\n",
      "Requirement already satisfied: astor>=0.6.0 in /home/jawad/snap/jupyter/common/lib/python3.7/site-packages (from tensorflow==1.13.2) (0.8.1)\n",
      "Requirement already satisfied: h5py in /home/jawad/snap/jupyter/common/lib/python3.7/site-packages (from keras-applications>=1.0.6->tensorflow==1.13.2) (3.6.0)\n",
      "Requirement already satisfied: werkzeug>=0.11.15 in /home/jawad/snap/jupyter/common/lib/python3.7/site-packages (from tensorboard<1.14.0,>=1.13.0->tensorflow==1.13.2) (2.0.2)\n",
      "Requirement already satisfied: markdown>=2.6.8 in /home/jawad/snap/jupyter/common/lib/python3.7/site-packages (from tensorboard<1.14.0,>=1.13.0->tensorflow==1.13.2) (3.3.6)\n",
      "Requirement already satisfied: importlib-metadata>=4.4 in /home/jawad/snap/jupyter/common/lib/python3.7/site-packages (from markdown>=2.6.8->tensorboard<1.14.0,>=1.13.0->tensorflow==1.13.2) (4.10.0)\n",
      "Requirement already satisfied: zipp>=0.5 in /home/jawad/snap/jupyter/common/lib/python3.7/site-packages (from importlib-metadata>=4.4->markdown>=2.6.8->tensorboard<1.14.0,>=1.13.0->tensorflow==1.13.2) (3.4.1)\n",
      "Requirement already satisfied: typing-extensions>=3.6.4 in /home/jawad/snap/jupyter/common/lib/python3.7/site-packages (from importlib-metadata>=4.4->markdown>=2.6.8->tensorboard<1.14.0,>=1.13.0->tensorflow==1.13.2) (3.10.0.0)\n",
      "Requirement already satisfied: mock>=2.0.0 in /home/jawad/snap/jupyter/common/lib/python3.7/site-packages (from tensorflow-estimator<1.14.0rc0,>=1.13.0->tensorflow==1.13.2) (4.0.3)\n",
      "Requirement already satisfied: cached-property in /home/jawad/snap/jupyter/common/lib/python3.7/site-packages (from h5py->keras-applications>=1.0.6->tensorflow==1.13.2) (1.5.2)\n",
      "\u001b[33mWARNING: You are using pip version 21.1.2; however, version 21.3.1 is available.\n",
      "You should consider upgrading via the '/snap/jupyter/6/bin/python -m pip install --upgrade pip' command.\u001b[0m\n"
     ]
    }
   ],
   "source": [
    "!pip install tensorflow==1.13.2"
   ]
  },
  {
   "cell_type": "code",
   "execution_count": 2,
   "metadata": {},
   "outputs": [
    {
     "name": "stdout",
     "output_type": "stream",
     "text": [
      "Requirement already satisfied: stable_baselines in /home/jawad/snap/jupyter/common/lib/python3.7/site-packages (2.10.2)\n",
      "Requirement already satisfied: opencv-python in /home/jawad/snap/jupyter/common/lib/python3.7/site-packages (from stable_baselines) (4.5.5.62)\n",
      "Requirement already satisfied: scipy in /home/jawad/snap/jupyter/common/lib/python3.7/site-packages (from stable_baselines) (1.6.2)\n",
      "Requirement already satisfied: pandas in /home/jawad/snap/jupyter/common/lib/python3.7/site-packages (from stable_baselines) (1.2.3)\n",
      "Requirement already satisfied: gym[atari,classic_control]>=0.11 in /home/jawad/snap/jupyter/common/lib/python3.7/site-packages (from stable_baselines) (0.21.0)\n",
      "Requirement already satisfied: matplotlib in /home/jawad/snap/jupyter/common/lib/python3.7/site-packages (from stable_baselines) (3.4.1)\n",
      "Requirement already satisfied: joblib in /home/jawad/snap/jupyter/common/lib/python3.7/site-packages (from stable_baselines) (1.0.1)\n",
      "Requirement already satisfied: numpy in /home/jawad/snap/jupyter/common/lib/python3.7/site-packages (from stable_baselines) (1.20.2)\n",
      "Requirement already satisfied: cloudpickle>=0.5.5 in /home/jawad/snap/jupyter/common/lib/python3.7/site-packages (from stable_baselines) (1.6.0)\n",
      "Requirement already satisfied: importlib-metadata>=4.8.1 in /home/jawad/snap/jupyter/common/lib/python3.7/site-packages (from gym[atari,classic_control]>=0.11->stable_baselines) (4.10.0)\n",
      "Requirement already satisfied: ale-py~=0.7.1 in /home/jawad/snap/jupyter/common/lib/python3.7/site-packages (from gym[atari,classic_control]>=0.11->stable_baselines) (0.7.3)\n",
      "Requirement already satisfied: pyglet>=1.4.0 in /home/jawad/snap/jupyter/common/lib/python3.7/site-packages (from gym[atari,classic_control]>=0.11->stable_baselines) (1.5.21)\n",
      "Requirement already satisfied: importlib-resources in /home/jawad/snap/jupyter/common/lib/python3.7/site-packages (from ale-py~=0.7.1->gym[atari,classic_control]>=0.11->stable_baselines) (5.4.0)\n",
      "Requirement already satisfied: zipp>=0.5 in /home/jawad/snap/jupyter/common/lib/python3.7/site-packages (from importlib-metadata>=4.8.1->gym[atari,classic_control]>=0.11->stable_baselines) (3.4.1)\n",
      "Requirement already satisfied: typing-extensions>=3.6.4 in /home/jawad/snap/jupyter/common/lib/python3.7/site-packages (from importlib-metadata>=4.8.1->gym[atari,classic_control]>=0.11->stable_baselines) (3.10.0.0)\n",
      "Requirement already satisfied: kiwisolver>=1.0.1 in /home/jawad/snap/jupyter/common/lib/python3.7/site-packages (from matplotlib->stable_baselines) (1.3.1)\n",
      "Requirement already satisfied: pyparsing>=2.2.1 in /home/jawad/snap/jupyter/common/lib/python3.7/site-packages (from matplotlib->stable_baselines) (2.4.7)\n",
      "Requirement already satisfied: pillow>=6.2.0 in /home/jawad/snap/jupyter/common/lib/python3.7/site-packages (from matplotlib->stable_baselines) (9.0.0)\n",
      "Requirement already satisfied: python-dateutil>=2.7 in /snap/jupyter/6/lib/python3.7/site-packages (from matplotlib->stable_baselines) (2.8.0)\n",
      "Requirement already satisfied: cycler>=0.10 in /home/jawad/snap/jupyter/common/lib/python3.7/site-packages (from matplotlib->stable_baselines) (0.10.0)\n",
      "Requirement already satisfied: six in /snap/jupyter/6/lib/python3.7/site-packages (from cycler>=0.10->matplotlib->stable_baselines) (1.12.0)\n",
      "Requirement already satisfied: pytz>=2017.3 in /home/jawad/snap/jupyter/common/lib/python3.7/site-packages (from pandas->stable_baselines) (2021.1)\n",
      "\u001b[33mWARNING: You are using pip version 21.1.2; however, version 21.3.1 is available.\n",
      "You should consider upgrading via the '/snap/jupyter/6/bin/python3 -m pip install --upgrade pip' command.\u001b[0m\n"
     ]
    }
   ],
   "source": [
    "!pip3 install stable_baselines"
   ]
  },
  {
   "cell_type": "code",
   "execution_count": 3,
   "metadata": {
    "colab": {
     "base_uri": "https://localhost:8080/"
    },
    "id": "yIqFCxkLILwn",
    "outputId": "667c6358-9a73-422e-f48b-c001712a2bd2"
   },
   "outputs": [
    {
     "ename": "ImportError",
     "evalue": "libGL.so.1: cannot open shared object file: No such file or directory",
     "output_type": "error",
     "traceback": [
      "\u001b[0;31m---------------------------------------------------------------------------\u001b[0m",
      "\u001b[0;31mImportError\u001b[0m                               Traceback (most recent call last)",
      "\u001b[0;32m<ipython-input-3-eeff49c786c0>\u001b[0m in \u001b[0;36m<module>\u001b[0;34m\u001b[0m\n\u001b[1;32m      1\u001b[0m \u001b[0;32mfrom\u001b[0m \u001b[0mstable_baselines\u001b[0m\u001b[0;34m.\u001b[0m\u001b[0mcommon\u001b[0m\u001b[0;34m.\u001b[0m\u001b[0mvec_env\u001b[0m \u001b[0;32mimport\u001b[0m \u001b[0mDummyVecEnv\u001b[0m\u001b[0;34m\u001b[0m\u001b[0;34m\u001b[0m\u001b[0m\n\u001b[0;32m----> 2\u001b[0;31m \u001b[0;32mfrom\u001b[0m \u001b[0mstable_baselines\u001b[0m\u001b[0;34m.\u001b[0m\u001b[0mdeepq\u001b[0m\u001b[0;34m.\u001b[0m\u001b[0mpolicies\u001b[0m \u001b[0;32mimport\u001b[0m \u001b[0mMlpPolicy\u001b[0m\u001b[0;34m\u001b[0m\u001b[0;34m\u001b[0m\u001b[0m\n\u001b[0m\u001b[1;32m      3\u001b[0m \u001b[0;32mfrom\u001b[0m \u001b[0mstable_baselines\u001b[0m \u001b[0;32mimport\u001b[0m \u001b[0mDQN\u001b[0m\u001b[0;34m\u001b[0m\u001b[0;34m\u001b[0m\u001b[0m\n\u001b[1;32m      4\u001b[0m \u001b[0;32mimport\u001b[0m \u001b[0mgym\u001b[0m\u001b[0;34m\u001b[0m\u001b[0;34m\u001b[0m\u001b[0m\n",
      "\u001b[0;32m/home/jawad/snap/jupyter/common/lib/python3.7/site-packages/stable_baselines/__init__.py\u001b[0m in \u001b[0;36m<module>\u001b[0;34m\u001b[0m\n\u001b[1;32m      2\u001b[0m \u001b[0;32mimport\u001b[0m \u001b[0mwarnings\u001b[0m\u001b[0;34m\u001b[0m\u001b[0;34m\u001b[0m\u001b[0m\n\u001b[1;32m      3\u001b[0m \u001b[0;34m\u001b[0m\u001b[0m\n\u001b[0;32m----> 4\u001b[0;31m \u001b[0;32mfrom\u001b[0m \u001b[0mstable_baselines\u001b[0m\u001b[0;34m.\u001b[0m\u001b[0ma2c\u001b[0m \u001b[0;32mimport\u001b[0m \u001b[0mA2C\u001b[0m\u001b[0;34m\u001b[0m\u001b[0;34m\u001b[0m\u001b[0m\n\u001b[0m\u001b[1;32m      5\u001b[0m \u001b[0;32mfrom\u001b[0m \u001b[0mstable_baselines\u001b[0m\u001b[0;34m.\u001b[0m\u001b[0macer\u001b[0m \u001b[0;32mimport\u001b[0m \u001b[0mACER\u001b[0m\u001b[0;34m\u001b[0m\u001b[0;34m\u001b[0m\u001b[0m\n\u001b[1;32m      6\u001b[0m \u001b[0;32mfrom\u001b[0m \u001b[0mstable_baselines\u001b[0m\u001b[0;34m.\u001b[0m\u001b[0macktr\u001b[0m \u001b[0;32mimport\u001b[0m \u001b[0mACKTR\u001b[0m\u001b[0;34m\u001b[0m\u001b[0;34m\u001b[0m\u001b[0m\n",
      "\u001b[0;32m/home/jawad/snap/jupyter/common/lib/python3.7/site-packages/stable_baselines/a2c/__init__.py\u001b[0m in \u001b[0;36m<module>\u001b[0;34m\u001b[0m\n\u001b[0;32m----> 1\u001b[0;31m \u001b[0;32mfrom\u001b[0m \u001b[0mstable_baselines\u001b[0m\u001b[0;34m.\u001b[0m\u001b[0ma2c\u001b[0m\u001b[0;34m.\u001b[0m\u001b[0ma2c\u001b[0m \u001b[0;32mimport\u001b[0m \u001b[0mA2C\u001b[0m\u001b[0;34m\u001b[0m\u001b[0;34m\u001b[0m\u001b[0m\n\u001b[0m",
      "\u001b[0;32m/home/jawad/snap/jupyter/common/lib/python3.7/site-packages/stable_baselines/a2c/a2c.py\u001b[0m in \u001b[0;36m<module>\u001b[0;34m\u001b[0m\n\u001b[1;32m      6\u001b[0m \u001b[0;34m\u001b[0m\u001b[0m\n\u001b[1;32m      7\u001b[0m \u001b[0;32mfrom\u001b[0m \u001b[0mstable_baselines\u001b[0m \u001b[0;32mimport\u001b[0m \u001b[0mlogger\u001b[0m\u001b[0;34m\u001b[0m\u001b[0;34m\u001b[0m\u001b[0m\n\u001b[0;32m----> 8\u001b[0;31m \u001b[0;32mfrom\u001b[0m \u001b[0mstable_baselines\u001b[0m\u001b[0;34m.\u001b[0m\u001b[0mcommon\u001b[0m \u001b[0;32mimport\u001b[0m \u001b[0mexplained_variance\u001b[0m\u001b[0;34m,\u001b[0m \u001b[0mtf_util\u001b[0m\u001b[0;34m,\u001b[0m \u001b[0mActorCriticRLModel\u001b[0m\u001b[0;34m,\u001b[0m \u001b[0mSetVerbosity\u001b[0m\u001b[0;34m,\u001b[0m \u001b[0mTensorboardWriter\u001b[0m\u001b[0;34m\u001b[0m\u001b[0;34m\u001b[0m\u001b[0m\n\u001b[0m\u001b[1;32m      9\u001b[0m \u001b[0;32mfrom\u001b[0m \u001b[0mstable_baselines\u001b[0m\u001b[0;34m.\u001b[0m\u001b[0mcommon\u001b[0m\u001b[0;34m.\u001b[0m\u001b[0mpolicies\u001b[0m \u001b[0;32mimport\u001b[0m \u001b[0mActorCriticPolicy\u001b[0m\u001b[0;34m,\u001b[0m \u001b[0mRecurrentActorCriticPolicy\u001b[0m\u001b[0;34m\u001b[0m\u001b[0;34m\u001b[0m\u001b[0m\n\u001b[1;32m     10\u001b[0m \u001b[0;32mfrom\u001b[0m \u001b[0mstable_baselines\u001b[0m\u001b[0;34m.\u001b[0m\u001b[0mcommon\u001b[0m\u001b[0;34m.\u001b[0m\u001b[0mrunners\u001b[0m \u001b[0;32mimport\u001b[0m \u001b[0mAbstractEnvRunner\u001b[0m\u001b[0;34m\u001b[0m\u001b[0;34m\u001b[0m\u001b[0m\n",
      "\u001b[0;32m/home/jawad/snap/jupyter/common/lib/python3.7/site-packages/stable_baselines/common/__init__.py\u001b[0m in \u001b[0;36m<module>\u001b[0;34m\u001b[0m\n\u001b[1;32m      7\u001b[0m \u001b[0;32mfrom\u001b[0m \u001b[0mstable_baselines\u001b[0m\u001b[0;34m.\u001b[0m\u001b[0mcommon\u001b[0m\u001b[0;34m.\u001b[0m\u001b[0mbase_class\u001b[0m \u001b[0;32mimport\u001b[0m \u001b[0mBaseRLModel\u001b[0m\u001b[0;34m,\u001b[0m \u001b[0mActorCriticRLModel\u001b[0m\u001b[0;34m,\u001b[0m \u001b[0mOffPolicyRLModel\u001b[0m\u001b[0;34m,\u001b[0m \u001b[0mSetVerbosity\u001b[0m\u001b[0;34m,\u001b[0m\u001b[0;31m \u001b[0m\u001b[0;31m\\\u001b[0m\u001b[0;34m\u001b[0m\u001b[0;34m\u001b[0m\u001b[0m\n\u001b[1;32m      8\u001b[0m     \u001b[0mTensorboardWriter\u001b[0m\u001b[0;34m\u001b[0m\u001b[0;34m\u001b[0m\u001b[0m\n\u001b[0;32m----> 9\u001b[0;31m \u001b[0;32mfrom\u001b[0m \u001b[0mstable_baselines\u001b[0m\u001b[0;34m.\u001b[0m\u001b[0mcommon\u001b[0m\u001b[0;34m.\u001b[0m\u001b[0mcmd_util\u001b[0m \u001b[0;32mimport\u001b[0m \u001b[0mmake_vec_env\u001b[0m\u001b[0;34m\u001b[0m\u001b[0;34m\u001b[0m\u001b[0m\n\u001b[0m",
      "\u001b[0;32m/home/jawad/snap/jupyter/common/lib/python3.7/site-packages/stable_baselines/common/cmd_util.py\u001b[0m in \u001b[0;36m<module>\u001b[0;34m\u001b[0m\n\u001b[1;32m     11\u001b[0m \u001b[0;32mfrom\u001b[0m \u001b[0mstable_baselines\u001b[0m\u001b[0;34m.\u001b[0m\u001b[0mbench\u001b[0m \u001b[0;32mimport\u001b[0m \u001b[0mMonitor\u001b[0m\u001b[0;34m\u001b[0m\u001b[0;34m\u001b[0m\u001b[0m\n\u001b[1;32m     12\u001b[0m \u001b[0;32mfrom\u001b[0m \u001b[0mstable_baselines\u001b[0m\u001b[0;34m.\u001b[0m\u001b[0mcommon\u001b[0m\u001b[0;34m.\u001b[0m\u001b[0mmisc_util\u001b[0m \u001b[0;32mimport\u001b[0m \u001b[0mset_global_seeds\u001b[0m\u001b[0;34m\u001b[0m\u001b[0;34m\u001b[0m\u001b[0m\n\u001b[0;32m---> 13\u001b[0;31m \u001b[0;32mfrom\u001b[0m \u001b[0mstable_baselines\u001b[0m\u001b[0;34m.\u001b[0m\u001b[0mcommon\u001b[0m\u001b[0;34m.\u001b[0m\u001b[0matari_wrappers\u001b[0m \u001b[0;32mimport\u001b[0m \u001b[0mmake_atari\u001b[0m\u001b[0;34m,\u001b[0m \u001b[0mwrap_deepmind\u001b[0m\u001b[0;34m\u001b[0m\u001b[0;34m\u001b[0m\u001b[0m\n\u001b[0m\u001b[1;32m     14\u001b[0m \u001b[0;32mfrom\u001b[0m \u001b[0mstable_baselines\u001b[0m\u001b[0;34m.\u001b[0m\u001b[0mcommon\u001b[0m\u001b[0;34m.\u001b[0m\u001b[0mmisc_util\u001b[0m \u001b[0;32mimport\u001b[0m \u001b[0mmpi_rank_or_zero\u001b[0m\u001b[0;34m\u001b[0m\u001b[0;34m\u001b[0m\u001b[0m\n\u001b[1;32m     15\u001b[0m \u001b[0;32mfrom\u001b[0m \u001b[0mstable_baselines\u001b[0m\u001b[0;34m.\u001b[0m\u001b[0mcommon\u001b[0m\u001b[0;34m.\u001b[0m\u001b[0mvec_env\u001b[0m \u001b[0;32mimport\u001b[0m \u001b[0mDummyVecEnv\u001b[0m\u001b[0;34m,\u001b[0m \u001b[0mSubprocVecEnv\u001b[0m\u001b[0;34m\u001b[0m\u001b[0;34m\u001b[0m\u001b[0m\n",
      "\u001b[0;32m/home/jawad/snap/jupyter/common/lib/python3.7/site-packages/stable_baselines/common/atari_wrappers.py\u001b[0m in \u001b[0;36m<module>\u001b[0;34m\u001b[0m\n\u001b[1;32m      4\u001b[0m \u001b[0;32mimport\u001b[0m \u001b[0mgym\u001b[0m\u001b[0;34m\u001b[0m\u001b[0;34m\u001b[0m\u001b[0m\n\u001b[1;32m      5\u001b[0m \u001b[0;32mfrom\u001b[0m \u001b[0mgym\u001b[0m \u001b[0;32mimport\u001b[0m \u001b[0mspaces\u001b[0m\u001b[0;34m\u001b[0m\u001b[0;34m\u001b[0m\u001b[0m\n\u001b[0;32m----> 6\u001b[0;31m \u001b[0;32mimport\u001b[0m \u001b[0mcv2\u001b[0m  \u001b[0;31m# pytype:disable=import-error\u001b[0m\u001b[0;34m\u001b[0m\u001b[0;34m\u001b[0m\u001b[0m\n\u001b[0m\u001b[1;32m      7\u001b[0m \u001b[0mcv2\u001b[0m\u001b[0;34m.\u001b[0m\u001b[0mocl\u001b[0m\u001b[0;34m.\u001b[0m\u001b[0msetUseOpenCL\u001b[0m\u001b[0;34m(\u001b[0m\u001b[0;32mFalse\u001b[0m\u001b[0;34m)\u001b[0m\u001b[0;34m\u001b[0m\u001b[0;34m\u001b[0m\u001b[0m\n\u001b[1;32m      8\u001b[0m \u001b[0;34m\u001b[0m\u001b[0m\n",
      "\u001b[0;32m/home/jawad/snap/jupyter/common/lib/python3.7/site-packages/cv2/__init__.py\u001b[0m in \u001b[0;36m<module>\u001b[0;34m\u001b[0m\n\u001b[1;32m      6\u001b[0m \u001b[0;32mimport\u001b[0m \u001b[0msys\u001b[0m\u001b[0;34m\u001b[0m\u001b[0;34m\u001b[0m\u001b[0m\n\u001b[1;32m      7\u001b[0m \u001b[0;34m\u001b[0m\u001b[0m\n\u001b[0;32m----> 8\u001b[0;31m \u001b[0;32mfrom\u001b[0m \u001b[0;34m.\u001b[0m\u001b[0mcv2\u001b[0m \u001b[0;32mimport\u001b[0m \u001b[0;34m*\u001b[0m\u001b[0;34m\u001b[0m\u001b[0;34m\u001b[0m\u001b[0m\n\u001b[0m\u001b[1;32m      9\u001b[0m \u001b[0;32mfrom\u001b[0m \u001b[0;34m.\u001b[0m\u001b[0mcv2\u001b[0m \u001b[0;32mimport\u001b[0m \u001b[0m_registerMatType\u001b[0m\u001b[0;34m\u001b[0m\u001b[0;34m\u001b[0m\u001b[0m\n\u001b[1;32m     10\u001b[0m \u001b[0;32mfrom\u001b[0m \u001b[0;34m.\u001b[0m \u001b[0;32mimport\u001b[0m \u001b[0mmat_wrapper\u001b[0m\u001b[0;34m\u001b[0m\u001b[0;34m\u001b[0m\u001b[0m\n",
      "\u001b[0;31mImportError\u001b[0m: libGL.so.1: cannot open shared object file: No such file or directory"
     ]
    }
   ],
   "source": [
    "from stable_baselines.common.vec_env import DummyVecEnv\n",
    "from stable_baselines.deepq.policies import MlpPolicy\n",
    "from stable_baselines import DQN\n",
    "import gym\n"
   ]
  },
  {
   "cell_type": "code",
   "execution_count": 6,
   "metadata": {
    "colab": {
     "base_uri": "https://localhost:8080/"
    },
    "id": "MMZUqpytVGVU",
    "outputId": "ee8a097a-e6fd-4da1-b036-ae5588391ec6"
   },
   "outputs": [
    {
     "name": "stdout",
     "output_type": "stream",
     "text": [
      "Discrete(2)\n",
      "Box(-3.4028234663852886e+38, 3.4028234663852886e+38, (4,), float32)\n"
     ]
    }
   ],
   "source": [
    "env = gym.make('CartPole-v0')\n",
    "print(env.action_space)\n",
    "\n",
    "print(env.observation_space)"
   ]
  },
  {
   "cell_type": "code",
   "execution_count": 5,
   "metadata": {
    "colab": {
     "base_uri": "https://localhost:8080/"
    },
    "id": "g5wanLSkGoK3",
    "outputId": "74d76ecc-5f36-4ceb-bfef-37c1f6b78c62"
   },
   "outputs": [
    {
     "name": "stdout",
     "output_type": "stream",
     "text": [
      "--------------------------------------\n",
      "| % time spent exploring  | 59       |\n",
      "| episodes                | 100      |\n",
      "| mean 100 episode reward | 20.6     |\n",
      "| steps                   | 2042     |\n",
      "--------------------------------------\n",
      "--------------------------------------\n",
      "| % time spent exploring  | 2        |\n",
      "| episodes                | 200      |\n",
      "| mean 100 episode reward | 118      |\n",
      "| steps                   | 13877    |\n",
      "--------------------------------------\n",
      "--------------------------------------\n",
      "| % time spent exploring  | 2        |\n",
      "| episodes                | 300      |\n",
      "| mean 100 episode reward | 76.7     |\n",
      "| steps                   | 21544    |\n",
      "--------------------------------------\n",
      "--------------------------------------\n",
      "| % time spent exploring  | 2        |\n",
      "| episodes                | 400      |\n",
      "| mean 100 episode reward | 105      |\n",
      "| steps                   | 32065    |\n",
      "--------------------------------------\n",
      "--------------------------------------\n",
      "| % time spent exploring  | 2        |\n",
      "| episodes                | 500      |\n",
      "| mean 100 episode reward | 108      |\n",
      "| steps                   | 42899    |\n",
      "--------------------------------------\n"
     ]
    }
   ],
   "source": [
    "\n",
    "\n",
    "\n",
    "model = DQN(policy=MlpPolicy, env=env,gamma=0.95,learning_rate=0.001, verbose=1)\n",
    "model.learn(total_timesteps=50000)\n",
    "\n",
    "obs = env.reset()\n",
    "while True:\n",
    "    action, _states = model.predict(obs)\n",
    "    obs, rewards, dones, info = env.step(action)\n",
    "\n",
    "\n",
    "\n",
    "    env.render()\n"
   ]
  }
 ],
 "metadata": {
  "colab": {
   "collapsed_sections": [],
   "name": "Untitled14.ipynb",
   "provenance": []
  },
  "kernelspec": {
   "display_name": "Python 3",
   "language": "python",
   "name": "python3"
  },
  "language_info": {
   "codemirror_mode": {
    "name": "ipython",
    "version": 3
   },
   "file_extension": ".py",
   "mimetype": "text/x-python",
   "name": "python",
   "nbconvert_exporter": "python",
   "pygments_lexer": "ipython3",
   "version": "3.7.3"
  }
 },
 "nbformat": 4,
 "nbformat_minor": 1
}
